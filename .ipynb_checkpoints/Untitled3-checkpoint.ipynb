{
 "cells": [
  {
   "cell_type": "code",
   "execution_count": null,
   "metadata": {
    "colab": {
     "base_uri": "https://localhost:8080/"
    },
    "id": "hTfV7dfBAOf2",
    "outputId": "4dac9c97-8769-4c2d-ccca-ec38ab0c1672"
   },
   "outputs": [
    {
     "name": "stdout",
     "output_type": "stream",
     "text": [
      "ks_40_0 -> Yaklaşık Value: 96474, Dahil Edilenler: [27, 29, 31, 33, 35, 37, 39]\n",
      "ks_300_0 -> Yaklaşık Value: 1688584, Dahil Edilenler: [41, 53, 80, 87, 108, 175, 229, 239, 255]\n",
      "ks_1000_0 -> Yaklaşık Value: 109869, Dahil Edilenler: [60, 116, 211, 337, 385, 395, 486, 505, 507, 520, 526, 554, 628, 643, 690, 704, 802, 890, 930]\n",
      "ks_10000_0 -> Yaklaşık Value: 1099870, Dahil Edilenler: [49, 569, 1825, 1943, 2169, 2947, 3004, 3024, 5621, 6114, 6536, 7056, 7235, 7578, 8035, 9118, 9309, 9757]\n",
      "Excel dosyası oluşturuldu: yaklasik_knapsack.xlsx\n"
     ]
    }
   ],
   "source": [
    "import os\n",
    "import openpyxl\n",
    "from openpyxl.styles import Font\n",
    "\n",
    "def read_knapsack_file(filepath):\n",
    "    with open(filepath, 'r') as f:\n",
    "        lines = f.readlines()\n",
    "\n",
    "    n_items, capacity = map(int, lines[0].split())\n",
    "    values = []\n",
    "    weights = []\n",
    "\n",
    "    for line in lines[1:]:\n",
    "        v, w = map(int, line.strip().split())\n",
    "        values.append(v)\n",
    "        weights.append(w)\n",
    "\n",
    "    return n_items, capacity, values, weights\n",
    "\n",
    "def knapsack(n, capacity, values, weights):\n",
    "    dp = [[0 for _ in range(capacity + 1)] for _ in range(n + 1)]\n",
    "\n",
    "    for i in range(1, n + 1):\n",
    "        for w in range(capacity + 1):\n",
    "            if weights[i - 1] <= w:\n",
    "                dp[i][w] = max(dp[i - 1][w], dp[i - 1][w - weights[i - 1]] + values[i - 1])\n",
    "            else:\n",
    "                dp[i][w] = dp[i - 1][w]\n",
    "\n",
    "    optimal_value = dp[n][capacity]\n",
    "    selected = [0] * n\n",
    "    w = capacity\n",
    "    for i in range(n, 0, -1):\n",
    "        if dp[i][w] != dp[i - 1][w]:\n",
    "            selected[i - 1] = 1\n",
    "            w -= weights[i - 1]\n",
    "\n",
    "    return optimal_value, selected\n",
    "\n",
    "def save_to_excel(results, output_file=\"knapsack_sonuclar.xlsx\", ogr_no=\"244201001110\", ad_soyad=\"Cemal Özçelik\"):\n",
    "    wb = openpyxl.Workbook()\n",
    "    ws = wb.active\n",
    "    ws.title = \"Knapsack Sonuçları\"\n",
    "\n",
    "    # Başlık satırları\n",
    "    ws.append([ogr_no, ad_soyad])\n",
    "    headers = [\"Dosya Boyut\", \"Optimal Value\", \"Optimal Çözüm (0,1...)\", \"Dahil Edilen Itemler\"]\n",
    "    ws.append(headers)\n",
    "\n",
    "    # Kalın başlık\n",
    "    for cell in ws[2]:\n",
    "        cell.font = Font(bold=True)\n",
    "\n",
    "    for size, value, chosen, included in results:\n",
    "        chosen_str = \",\".join(map(str, chosen))\n",
    "        included_str = \",\".join(map(str, included))\n",
    "        ws.append([size, value, chosen_str, included_str])\n",
    "\n",
    "    wb.save(output_file)\n",
    "    print(f\"Excel dosyası oluşturuldu: {output_file}\")\n",
    "\n",
    "def fast_knapsack_approx(n, capacity, values, weights):\n",
    "    items = list(zip(range(n), values, weights))\n",
    "    items.sort(key=lambda x: x[1] / x[2], reverse=True)  # value/weight oranına göre sırala\n",
    "\n",
    "    total_value = 0\n",
    "    total_weight = 0\n",
    "    selected = [0] * n\n",
    "\n",
    "    for idx, val, wt in items:\n",
    "        if total_weight + wt <= capacity:\n",
    "            selected[idx] = 1\n",
    "            total_value += val\n",
    "            total_weight += wt\n",
    "\n",
    "    return total_value, selected\n",
    "\n",
    "\n",
    "def run_all_fast():\n",
    "    files = [\"ks_40_0\", \"ks_300_0\", \"ks_1000_0\", \"ks_10000_0\"]\n",
    "    results = []\n",
    "\n",
    "    for file in files:\n",
    "        if not os.path.exists(file):\n",
    "            print(f\"Dosya bulunamadı: {file}\")\n",
    "            continue\n",
    "\n",
    "        n, cap, vals, wgts = read_knapsack_file(file)\n",
    "        value, chosen = fast_knapsack_approx(n, cap, vals, wgts)\n",
    "        included_items = [i + 1 for i, c in enumerate(chosen) if c == 1]\n",
    "        results.append((n, value, chosen, included_items))\n",
    "\n",
    "        print(f\"{file} -> Yaklaşık Value: {value}, Dahil Edilenler: {included_items}\")\n",
    "\n",
    "    save_to_excel(results, output_file=\"yaklasik_knapsack.xlsx\")\n",
    "\n",
    "if __name__ == \"__main__\":\n",
    "    run_all_fast()\n"
   ]
  },
  {
   "cell_type": "code",
   "execution_count": 6,
   "metadata": {
    "colab": {
     "base_uri": "https://localhost:8080/"
    },
    "id": "Z7yxzxsqDjaa",
    "outputId": "9bdc4393-550c-430a-86de-d1afa8f4845a"
   },
   "outputs": [
    {
     "name": "stdout",
     "output_type": "stream",
     "text": [
      "Requirement already satisfied: openpyxl in /usr/local/lib/python3.11/dist-packages (3.1.5)\n",
      "Requirement already satisfied: matplotlib in /usr/local/lib/python3.11/dist-packages (3.10.0)\n",
      "Requirement already satisfied: et-xmlfile in /usr/local/lib/python3.11/dist-packages (from openpyxl) (2.0.0)\n",
      "Requirement already satisfied: contourpy>=1.0.1 in /usr/local/lib/python3.11/dist-packages (from matplotlib) (1.3.2)\n",
      "Requirement already satisfied: cycler>=0.10 in /usr/local/lib/python3.11/dist-packages (from matplotlib) (0.12.1)\n",
      "Requirement already satisfied: fonttools>=4.22.0 in /usr/local/lib/python3.11/dist-packages (from matplotlib) (4.58.0)\n",
      "Requirement already satisfied: kiwisolver>=1.3.1 in /usr/local/lib/python3.11/dist-packages (from matplotlib) (1.4.8)\n",
      "Requirement already satisfied: numpy>=1.23 in /usr/local/lib/python3.11/dist-packages (from matplotlib) (2.0.2)\n",
      "Requirement already satisfied: packaging>=20.0 in /usr/local/lib/python3.11/dist-packages (from matplotlib) (24.2)\n",
      "Requirement already satisfied: pillow>=8 in /usr/local/lib/python3.11/dist-packages (from matplotlib) (11.2.1)\n",
      "Requirement already satisfied: pyparsing>=2.3.1 in /usr/local/lib/python3.11/dist-packages (from matplotlib) (3.2.3)\n",
      "Requirement already satisfied: python-dateutil>=2.7 in /usr/local/lib/python3.11/dist-packages (from matplotlib) (2.9.0.post0)\n",
      "Requirement already satisfied: six>=1.5 in /usr/local/lib/python3.11/dist-packages (from python-dateutil>=2.7->matplotlib) (1.17.0)\n"
     ]
    }
   ],
   "source": [
    "pip install openpyxl matplotlib"
   ]
  },
  {
   "cell_type": "code",
   "execution_count": 7,
   "metadata": {
    "colab": {
     "base_uri": "https://localhost:8080/",
     "height": 591
    },
    "id": "CsFdwSWzDn3r",
    "outputId": "9e722046-61d7-42e9-9988-6cdb55239a51"
   },
   "outputs": [
    {
     "name": "stdout",
     "output_type": "stream",
     "text": [
      "ks_40_0: 40 öğe, Süre: 0.000034 saniye, Value: 96474\n",
      "ks_300_0: 300 öğe, Süre: 0.000319 saniye, Value: 1688584\n",
      "ks_1000_0: 1000 öğe, Süre: 0.000866 saniye, Value: 109869\n",
      "ks_10000_0: 10000 öğe, Süre: 0.006174 saniye, Value: 1099870\n",
      "Excel dosyası oluşturuldu: yaklasik_knapsack.xlsx\n"
     ]
    },
    {
     "data": {
      "image/png": "[encoded data removed]",
      "text/plain": [
       "<Figure size 800x500 with 1 Axes>"
      ]
     },
     "metadata": {},
     "output_type": "display_data"
    },
    {
     "name": "stdout",
     "output_type": "stream",
     "text": [
      "Grafik kaydedildi: knapsack_timing_graph.png\n"
     ]
    }
   ],
   "source": [
    "import os\n",
    "import time\n",
    "import openpyxl\n",
    "from openpyxl.styles import Font\n",
    "import matplotlib.pyplot as plt\n",
    "\n",
    "def read_knapsack_file(filepath):\n",
    "    with open(filepath, 'r') as f:\n",
    "        lines = f.readlines()\n",
    "\n",
    "    n_items, capacity = map(int, lines[0].split())\n",
    "    values = []\n",
    "    weights = []\n",
    "\n",
    "    for line in lines[1:]:\n",
    "        v, w = map(int, line.strip().split())\n",
    "        values.append(v)\n",
    "        weights.append(w)\n",
    "\n",
    "    return n_items, capacity, values, weights\n",
    "\n",
    "def fast_knapsack_approx(n, capacity, values, weights):\n",
    "    items = list(zip(range(n), values, weights))\n",
    "    items.sort(key=lambda x: x[1] / x[2], reverse=True)\n",
    "\n",
    "    total_value = 0\n",
    "    total_weight = 0\n",
    "    selected = [0] * n\n",
    "\n",
    "    for idx, val, wt in items:\n",
    "        if total_weight + wt <= capacity:\n",
    "            selected[idx] = 1\n",
    "            total_value += val\n",
    "            total_weight += wt\n",
    "\n",
    "    return total_value, selected\n",
    "\n",
    "def run_with_timing():\n",
    "    files = [\"ks_40_0\", \"ks_300_0\", \"ks_1000_0\", \"ks_10000_0\"]\n",
    "    times = []\n",
    "    sizes = []\n",
    "    results = []\n",
    "\n",
    "    for file in files:\n",
    "        if not os.path.exists(file):\n",
    "            print(f\"Dosya bulunamadı: {file}\")\n",
    "            continue\n",
    "\n",
    "        n, cap, vals, wgts = read_knapsack_file(file)\n",
    "\n",
    "        start = time.time()\n",
    "        value, chosen = fast_knapsack_approx(n, cap, vals, wgts)\n",
    "        end = time.time()\n",
    "\n",
    "        duration = end - start\n",
    "        print(f\"{file}: {n} öğe, Süre: {duration:.6f} saniye, Value: {value}\")\n",
    "\n",
    "        included = [i + 1 for i, c in enumerate(chosen) if c]\n",
    "        results.append((n, value, chosen, included))\n",
    "        sizes.append(n)\n",
    "        times.append(duration)\n",
    "\n",
    "    save_to_excel(results)\n",
    "    plot_runtime(sizes, times)\n",
    "\n",
    "def save_to_excel(results, output_file=\"yaklasik_knapsack.xlsx\", ogr_no=\"244201001110\", ad_soyad=\"Cemal Özçelik\"):\n",
    "    wb = openpyxl.Workbook()\n",
    "    ws = wb.active\n",
    "    ws.title = \"Knapsack Sonuçları\"\n",
    "\n",
    "    ws.append([ogr_no, ad_soyad])\n",
    "    ws.append([\"Dosya Boyut\", \"Optimal Value\", \"Optimal Çözüm (0,1...)\", \"Dahil Edilen Itemler\"])\n",
    "\n",
    "    for cell in ws[2]:\n",
    "        cell.font = Font(bold=True)\n",
    "\n",
    "    for size, value, chosen, included in results:\n",
    "        chosen_str = \",\".join(map(str, chosen))\n",
    "        included_str = \",\".join(map(str, included))\n",
    "        ws.append([size, value, chosen_str, included_str])\n",
    "\n",
    "    wb.save(output_file)\n",
    "    print(f\"Excel dosyası oluşturuldu: {output_file}\")\n",
    "\n",
    "def plot_runtime(sizes, times):\n",
    "    plt.figure(figsize=(8, 5))\n",
    "    plt.plot(sizes, times, marker='o')\n",
    "    plt.title(\"Knapsack Boyut vs Çalışma Süresi\")\n",
    "    plt.xlabel(\"Dosya Boyutu (Item Sayısı)\")\n",
    "    plt.ylabel(\"Çalışma Süresi (saniye)\")\n",
    "    plt.grid(True)\n",
    "    plt.savefig(\"knapsack_timing_graph.png\", dpi=300)\n",
    "    plt.show()\n",
    "    print(\"Grafik kaydedildi: knapsack_timing_graph.png\")\n",
    "\n",
    "if __name__ == \"__main__\":\n",
    "    run_with_timing()\n"
   ]
  }
 ],
 "metadata": {
  "colab": {
   "provenance": []
  },
  "kernelspec": {
   "display_name": "Python 3 (ipykernel)",
   "language": "python",
   "name": "python3"
  },
  "language_info": {
   "codemirror_mode": {
    "name": "ipython",
    "version": 3
   },
   "file_extension": ".py",
   "mimetype": "text/x-python",
   "name": "python",
   "nbconvert_exporter": "python",
   "pygments_lexer": "ipython3",
   "version": "3.9.21"
  }
 },
 "nbformat": 4,
 "nbformat_minor": 4
}
